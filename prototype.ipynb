{
 "cells": [
  {
   "cell_type": "code",
   "execution_count": 1,
   "metadata": {},
   "outputs": [
    {
     "data": {
      "text/plain": [
       "True"
      ]
     },
     "execution_count": 1,
     "metadata": {},
     "output_type": "execute_result"
    }
   ],
   "source": [
    "from dotenv import load_dotenv\n",
    "import numpy as np\n",
    "\n",
    "# Load environment variables from .env file\n",
    "load_dotenv()"
   ]
  },
  {
   "cell_type": "code",
   "execution_count": 2,
   "metadata": {},
   "outputs": [],
   "source": [
    "from google.api_core import retry\n",
    "\n",
    "@retry.Retry()\n",
    "def retry_chat(**kwargs):\n",
    "  return palm.chat(**kwargs)\n",
    "\n",
    "@retry.Retry()\n",
    "def retry_reply(self, arg):\n",
    "  return self.reply(arg)\n"
   ]
  },
  {
   "cell_type": "code",
   "execution_count": 3,
   "metadata": {},
   "outputs": [],
   "source": [
    "import google.generativeai as palm\n",
    "import os\n",
    "\n",
    "api_key = os.getenv(\"GOOGLE_API_KEY\")\n",
    "palm.configure(api_key=api_key)"
   ]
  },
  {
   "cell_type": "code",
   "execution_count": 4,
   "metadata": {},
   "outputs": [
    {
     "name": "stdout",
     "output_type": "stream",
     "text": [
      "models/chat-bison-001\n"
     ]
    }
   ],
   "source": [
    "models = [m for m in palm.list_models() if 'generateMessage' in m.supported_generation_methods]\n",
    "model = models[0].name\n",
    "print(model)"
   ]
  },
  {
   "cell_type": "markdown",
   "metadata": {},
   "source": [
    "**COMBINE**"
   ]
  },
  {
   "cell_type": "code",
   "execution_count": 5,
   "metadata": {},
   "outputs": [],
   "source": [
    "question = \"\"\"\n",
    "hello, I need a short summary and Indonesian translation of one paragraph. Can you provide a professional Indonesian translation and a short summary? :\n",
    "This research focuses on developing an image classification model to improve cataract diagnosis. The Inception-ResNetV2  method  was  chosen  because  of  its  ability  to  extract  image  features.  Under-sampling  techniques  are \n",
    "used  to  overcome  data  imbalance  in  the  dataset.  The  dataset  consists  of  6,162  eye  fundus  images  with  two \n",
    "classes:  cataract  and  normal.  Initial  processing  includes  normalization  of  normal  class  data  and  adjustment  of \n",
    "image size to 224x224 pixels. The dataset is divided into training (80%), validation (10%), and test (10%) data. \n",
    "Data  augmentation  is  used  to  improve  the  quality  of  training  data.  The  model  is  built  with  three  Dense  layers, \n",
    "three  Dropout  layers,  three  Batch  Normalization,  and  an  output  layer  for  class  classification.  Experimental \n",
    "results  show  that  both  models  achieve  an  accuracy  of  around  96%.  Model  1  has  more  stable  performance \n",
    "compared to model 2. The research also compares the results with previous research, showing differences in the \n",
    "types  of  motives  and  transfer  learning  methods.  In  conclusion,  this  study  suggests  the  use  of  the  Inception  V2 \n",
    "model  with  under-sampling  techniques  to  improve  cataract  diagnosis.  Both  models  have  high  accuracy,  but \n",
    "model  1  is  more  stable.  Under-sampling  techniques  are  key  in  dealing  with  data  imbalances  that  affect  model \n",
    "performance.\n",
    "\"\"\""
   ]
  },
  {
   "cell_type": "code",
   "execution_count": 6,
   "metadata": {},
   "outputs": [
    {
     "name": "stdout",
     "output_type": "stream",
     "text": [
      "Sure, here is the summary and Indonesian translation of the paragraph:\n",
      "\n",
      "**Summary:**\n",
      "\n",
      "This research proposes a novel image classification model for cataract diagnosis. The model is based on the Inception-ResNetV2 architecture and is trained on a dataset of 6,162 eye fundus images. The model achieves an accuracy of 96% on the test set.\n",
      "\n",
      "**Indonesian translation:**\n",
      "\n",
      "Penelitian ini mengusulkan model klasifikasi gambar baru untuk diagnosis katarak. Model ini didasarkan pada arsitektur Inception-ResNetV2 dan dilatih pada dataset 6.162 gambar fundus mata. Model ini mencapai akurasi 96% pada set tes.\n",
      "\n",
      "**Details:**\n",
      "\n",
      "The model is trained using a technique called under-sampling, which helps to reduce the impact of data imbalance in the dataset. The dataset is divided into training, validation, and test sets. The training set is used to train the model, the validation set is used to evaluate the model's performance, and the test set is used to assess the model's performance on unseen data.\n",
      "\n",
      "The model is evaluated using the following metrics: accuracy, precision, recall, and F1 score. Accuracy is the percentage of images that are correctly classified. Precision is the percentage of images that are classified as positive that are actually positive. Recall is the percentage of positive images that are correctly classified. F1 score is a measure of the model's overall performance.\n",
      "\n",
      "The results show that the model achieves an accuracy of 96% on the test set. This is a significant improvement over previous methods, which have achieved accuracies of around 80%. The model is also more stable than previous methods, with a lower variance in performance.\n",
      "\n",
      "The results of this study suggest that the Inception-ResNetV2 model with under-sampling techniques is a promising approach for cataract diagnosis. The model is accurate, stable, and can be easily implemented in a clinical setting.\n"
     ]
    }
   ],
   "source": [
    "response = retry_chat(\n",
    "    model=model,\n",
    "    context=\"You are a professional Indonesian translator and good at summarizing a paragraph.\",\n",
    "    messages=question,\n",
    ")\n",
    "\n",
    "print(response.last)"
   ]
  }
 ],
 "metadata": {
  "kernelspec": {
   "display_name": "Python 3",
   "language": "python",
   "name": "python3"
  },
  "language_info": {
   "codemirror_mode": {
    "name": "ipython",
    "version": 3
   },
   "file_extension": ".py",
   "mimetype": "text/x-python",
   "name": "python",
   "nbconvert_exporter": "python",
   "pygments_lexer": "ipython3",
   "version": "3.11.6"
  }
 },
 "nbformat": 4,
 "nbformat_minor": 2
}
